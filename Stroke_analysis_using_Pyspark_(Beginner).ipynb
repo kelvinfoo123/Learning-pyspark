{
  "nbformat": 4,
  "nbformat_minor": 0,
  "metadata": {
    "colab": {
      "provenance": [],
      "authorship_tag": "ABX9TyOzckkCiywZqOdUUV2D4aC7",
      "include_colab_link": true
    },
    "kernelspec": {
      "name": "python3",
      "display_name": "Python 3"
    },
    "language_info": {
      "name": "python"
    }
  },
  "cells": [
    {
      "cell_type": "markdown",
      "metadata": {
        "id": "view-in-github",
        "colab_type": "text"
      },
      "source": [
        "<a href=\"https://colab.research.google.com/github/kelvinfoo123/Projects-using-Spark/blob/main/Stroke_analysis_using_Pyspark_(Beginner).ipynb\" target=\"_parent\"><img src=\"https://colab.research.google.com/assets/colab-badge.svg\" alt=\"Open In Colab\"/></a>"
      ]
    },
    {
      "cell_type": "code",
      "execution_count": 1,
      "metadata": {
        "colab": {
          "base_uri": "https://localhost:8080/"
        },
        "id": "FIi4v6ooVjgn",
        "outputId": "64712de5-4001-46f6-a277-d9ad107a2d16"
      },
      "outputs": [
        {
          "output_type": "stream",
          "name": "stdout",
          "text": [
            "Looking in indexes: https://pypi.org/simple, https://us-python.pkg.dev/colab-wheels/public/simple/\n",
            "Collecting pyspark\n",
            "  Downloading pyspark-3.3.1.tar.gz (281.4 MB)\n",
            "\u001b[K     |████████████████████████████████| 281.4 MB 47 kB/s \n",
            "\u001b[?25hCollecting py4j==0.10.9.5\n",
            "  Downloading py4j-0.10.9.5-py2.py3-none-any.whl (199 kB)\n",
            "\u001b[K     |████████████████████████████████| 199 kB 64.3 MB/s \n",
            "\u001b[?25hBuilding wheels for collected packages: pyspark\n",
            "  Building wheel for pyspark (setup.py) ... \u001b[?25l\u001b[?25hdone\n",
            "  Created wheel for pyspark: filename=pyspark-3.3.1-py2.py3-none-any.whl size=281845512 sha256=2835f6ae07c0abb298617554a262de08eb7f655e724c5e38a440ed762dcc0892\n",
            "  Stored in directory: /root/.cache/pip/wheels/43/dc/11/ec201cd671da62fa9c5cc77078235e40722170ceba231d7598\n",
            "Successfully built pyspark\n",
            "Installing collected packages: py4j, pyspark\n",
            "Successfully installed py4j-0.10.9.5 pyspark-3.3.1\n"
          ]
        }
      ],
      "source": [
        "!pip install pyspark \n",
        "import pyspark"
      ]
    },
    {
      "cell_type": "code",
      "source": [
        "from pyspark.sql import SparkSession \n",
        "\n",
        "spark = SparkSession.builder.master(\"local[*]\").getOrCreate()"
      ],
      "metadata": {
        "id": "yyXHFJ33WgN8"
      },
      "execution_count": 3,
      "outputs": []
    },
    {
      "cell_type": "code",
      "source": [
        "data = spark.read.csv(\"stroke.csv\", inferSchema = True, header = True)\n",
        "data.show(5)"
      ],
      "metadata": {
        "colab": {
          "base_uri": "https://localhost:8080/"
        },
        "id": "9GwhZzaUW7ox",
        "outputId": "2ce2dddc-0ac7-4ef1-95c1-e5bf31dc3717"
      },
      "execution_count": 4,
      "outputs": [
        {
          "output_type": "stream",
          "name": "stdout",
          "text": [
            "+-----+------+----+------------+-------------+------------+-------------+--------------+-----------------+----+---------------+------+\n",
            "|   id|gender| age|hypertension|heart_disease|ever_married|    work_type|Residence_type|avg_glucose_level| bmi| smoking_status|stroke|\n",
            "+-----+------+----+------------+-------------+------------+-------------+--------------+-----------------+----+---------------+------+\n",
            "| 9046|  Male|67.0|           0|            1|         Yes|      Private|         Urban|           228.69|36.6|formerly smoked|     1|\n",
            "|51676|Female|61.0|           0|            0|         Yes|Self-employed|         Rural|           202.21| N/A|   never smoked|     1|\n",
            "|31112|  Male|80.0|           0|            1|         Yes|      Private|         Rural|           105.92|32.5|   never smoked|     1|\n",
            "|60182|Female|49.0|           0|            0|         Yes|      Private|         Urban|           171.23|34.4|         smokes|     1|\n",
            "| 1665|Female|79.0|           1|            0|         Yes|Self-employed|         Rural|           174.12|  24|   never smoked|     1|\n",
            "+-----+------+----+------------+-------------+------------+-------------+--------------+-----------------+----+---------------+------+\n",
            "only showing top 5 rows\n",
            "\n"
          ]
        }
      ]
    },
    {
      "cell_type": "code",
      "source": [
        "print(\"The shape of the data is \", (data.count(), len(data.columns)))"
      ],
      "metadata": {
        "colab": {
          "base_uri": "https://localhost:8080/"
        },
        "id": "1tEH91Y7XLJB",
        "outputId": "5a266bc1-946f-44d8-a413-dd9a2edcf0e2"
      },
      "execution_count": 6,
      "outputs": [
        {
          "output_type": "stream",
          "name": "stdout",
          "text": [
            "The shape of the data is  (5110, 12)\n"
          ]
        }
      ]
    },
    {
      "cell_type": "code",
      "source": [
        "data.printSchema()"
      ],
      "metadata": {
        "colab": {
          "base_uri": "https://localhost:8080/"
        },
        "id": "Oqg09UHiXanz",
        "outputId": "cfd18898-032e-418c-ee86-fb9d15eb3e81"
      },
      "execution_count": 7,
      "outputs": [
        {
          "output_type": "stream",
          "name": "stdout",
          "text": [
            "root\n",
            " |-- id: integer (nullable = true)\n",
            " |-- gender: string (nullable = true)\n",
            " |-- age: double (nullable = true)\n",
            " |-- hypertension: integer (nullable = true)\n",
            " |-- heart_disease: integer (nullable = true)\n",
            " |-- ever_married: string (nullable = true)\n",
            " |-- work_type: string (nullable = true)\n",
            " |-- Residence_type: string (nullable = true)\n",
            " |-- avg_glucose_level: double (nullable = true)\n",
            " |-- bmi: string (nullable = true)\n",
            " |-- smoking_status: string (nullable = true)\n",
            " |-- stroke: integer (nullable = true)\n",
            "\n"
          ]
        }
      ]
    },
    {
      "cell_type": "code",
      "source": [
        "# Convert the data type of age to integer \n",
        "data = data.withColumn('age', data['age'].cast('integer'))\n",
        "\n",
        "# Convert the data type of bmi to integer \n",
        "data = data.withColumn('bmi', data['bmi'].cast('integer'))\n",
        "\n",
        "# Convert the data type of average glucose level to integer \n",
        "data = data.withColumn('avg_glucose_level', data['avg_glucose_level'].cast('integer'))"
      ],
      "metadata": {
        "id": "yIWTvVHLXoIb"
      },
      "execution_count": 8,
      "outputs": []
    },
    {
      "cell_type": "code",
      "source": [
        "# Summary statistics \n",
        "data.describe().show()"
      ],
      "metadata": {
        "colab": {
          "base_uri": "https://localhost:8080/"
        },
        "id": "uvAdE-aLYMJ4",
        "outputId": "56208d08-b8d8-49cd-e4b2-04843f769648"
      },
      "execution_count": 9,
      "outputs": [
        {
          "output_type": "stream",
          "name": "stdout",
          "text": [
            "+-------+-----------------+------+------------------+------------------+-------------------+------------+---------+--------------+------------------+------------------+--------------+-------------------+\n",
            "|summary|               id|gender|               age|      hypertension|      heart_disease|ever_married|work_type|Residence_type| avg_glucose_level|               bmi|smoking_status|             stroke|\n",
            "+-------+-----------------+------+------------------+------------------+-------------------+------------+---------+--------------+------------------+------------------+--------------+-------------------+\n",
            "|  count|             5110|  5110|              5110|              5110|               5110|        5110|     5110|          5110|              5110|              4909|          5110|               5110|\n",
            "|   mean|36517.82935420744|  null| 43.21526418786693|0.0974559686888454|0.05401174168297456|        null|     null|          null|105.65831702544031|28.448563862293746|          null| 0.0487279843444227|\n",
            "| stddev|21161.72162482715|  null|22.633865752854746| 0.296606674233791|0.22606298750336554|        null|     null|          null|45.275290309509536| 7.843833618220339|          null|0.21531985698023753|\n",
            "|    min|               67|Female|                 0|                 0|                  0|          No| Govt_job|         Rural|                55|                10|       Unknown|                  0|\n",
            "|    max|            72940| Other|                82|                 1|                  1|         Yes| children|         Urban|               271|                97|        smokes|                  1|\n",
            "+-------+-----------------+------+------------------+------------------+-------------------+------------+---------+--------------+------------------+------------------+--------------+-------------------+\n",
            "\n"
          ]
        }
      ]
    },
    {
      "cell_type": "code",
      "source": [
        "# Focus on summary statistics of age and average glucose level \n",
        "data.describe(['age', 'avg_glucose_level']).show()"
      ],
      "metadata": {
        "colab": {
          "base_uri": "https://localhost:8080/"
        },
        "id": "diWA-vYdYdi_",
        "outputId": "77b72f6e-f66b-44fb-ba9e-b3bfb7b566b5"
      },
      "execution_count": 10,
      "outputs": [
        {
          "output_type": "stream",
          "name": "stdout",
          "text": [
            "+-------+------------------+------------------+\n",
            "|summary|               age| avg_glucose_level|\n",
            "+-------+------------------+------------------+\n",
            "|  count|              5110|              5110|\n",
            "|   mean| 43.21526418786693|105.65831702544031|\n",
            "| stddev|22.633865752854746|45.275290309509536|\n",
            "|    min|                 0|                55|\n",
            "|    max|                82|               271|\n",
            "+-------+------------------+------------------+\n",
            "\n"
          ]
        }
      ]
    },
    {
      "cell_type": "markdown",
      "source": [
        "## **Data Analysis**"
      ],
      "metadata": {
        "id": "0MJ3jTIYYvSQ"
      }
    },
    {
      "cell_type": "code",
      "source": [
        "# Count number of people with and without stroke \n",
        "data.groupby('stroke').count().show()"
      ],
      "metadata": {
        "colab": {
          "base_uri": "https://localhost:8080/"
        },
        "id": "2NVq5ihKYxeS",
        "outputId": "44909c82-f94f-42d1-dde6-c94af8152a20"
      },
      "execution_count": 11,
      "outputs": [
        {
          "output_type": "stream",
          "name": "stdout",
          "text": [
            "+------+-----+\n",
            "|stroke|count|\n",
            "+------+-----+\n",
            "|     1|  249|\n",
            "|     0| 4861|\n",
            "+------+-----+\n",
            "\n"
          ]
        }
      ]
    },
    {
      "cell_type": "code",
      "source": [
        "# Average age of people with and without stroke \n",
        "data.groupby('Stroke').agg({'age': 'mean'}).show()"
      ],
      "metadata": {
        "colab": {
          "base_uri": "https://localhost:8080/"
        },
        "id": "5FaSsr2BZAgh",
        "outputId": "8fd02a3a-b806-4c7c-90e9-7127116bfb84"
      },
      "execution_count": 12,
      "outputs": [
        {
          "output_type": "stream",
          "name": "stdout",
          "text": [
            "+------+-----------------+\n",
            "|Stroke|         avg(age)|\n",
            "+------+-----------------+\n",
            "|     1|67.72690763052209|\n",
            "|     0|41.95967907837893|\n",
            "+------+-----------------+\n",
            "\n"
          ]
        }
      ]
    },
    {
      "cell_type": "code",
      "source": [
        "# Min age of people with and without stroke \n",
        "data.groupby('Stroke').agg({'age': 'min'}).show()"
      ],
      "metadata": {
        "colab": {
          "base_uri": "https://localhost:8080/"
        },
        "id": "dDhesQEWZdb7",
        "outputId": "88f15db6-45b0-4d7d-dfc3-5bb163c349ec"
      },
      "execution_count": 13,
      "outputs": [
        {
          "output_type": "stream",
          "name": "stdout",
          "text": [
            "+------+--------+\n",
            "|Stroke|min(age)|\n",
            "+------+--------+\n",
            "|     1|       1|\n",
            "|     0|       0|\n",
            "+------+--------+\n",
            "\n"
          ]
        }
      ]
    },
    {
      "cell_type": "code",
      "source": [
        "# Check for missing values \n",
        "\n",
        "from pyspark.sql.functions import isnan, when, count, col \n",
        "data.select([count(when(isnan(c) | col(c).isNull(), c)).alias(c) for c in data.columns]).show()"
      ],
      "metadata": {
        "colab": {
          "base_uri": "https://localhost:8080/"
        },
        "id": "37IFkTbaZy_C",
        "outputId": "15bb4992-63ff-4144-c3b9-114c27e9ec06"
      },
      "execution_count": 14,
      "outputs": [
        {
          "output_type": "stream",
          "name": "stdout",
          "text": [
            "+---+------+---+------------+-------------+------------+---------+--------------+-----------------+---+--------------+------+\n",
            "| id|gender|age|hypertension|heart_disease|ever_married|work_type|Residence_type|avg_glucose_level|bmi|smoking_status|stroke|\n",
            "+---+------+---+------------+-------------+------------+---------+--------------+-----------------+---+--------------+------+\n",
            "|  0|     0|  0|           0|            0|           0|        0|             0|                0|201|             0|     0|\n",
            "+---+------+---+------------+-------------+------------+---------+--------------+-----------------+---+--------------+------+\n",
            "\n"
          ]
        }
      ]
    },
    {
      "cell_type": "code",
      "source": [
        "# Fill missing values in bmi using average bmi \n",
        "\n",
        "# Mean of bmi \n",
        "data.select('bmi').summary('50%', 'mean').show()"
      ],
      "metadata": {
        "colab": {
          "base_uri": "https://localhost:8080/"
        },
        "id": "PtpI-j-4a7zr",
        "outputId": "2c720353-89c7-4d79-b2ff-a76e7d88ca16"
      },
      "execution_count": 15,
      "outputs": [
        {
          "output_type": "stream",
          "name": "stdout",
          "text": [
            "+-------+------------------+\n",
            "|summary|               bmi|\n",
            "+-------+------------------+\n",
            "|    50%|                28|\n",
            "|   mean|28.448563862293746|\n",
            "+-------+------------------+\n",
            "\n"
          ]
        }
      ]
    },
    {
      "cell_type": "code",
      "source": [
        "data = data.na.fill({'bmi': 28})"
      ],
      "metadata": {
        "id": "tfWDF6wMbJ3S"
      },
      "execution_count": 16,
      "outputs": []
    },
    {
      "cell_type": "code",
      "source": [
        "# Remove redundant features \n",
        "data = data.drop('id')\n",
        "data.show(5)"
      ],
      "metadata": {
        "colab": {
          "base_uri": "https://localhost:8080/"
        },
        "id": "Ad5iiAKEbZJ6",
        "outputId": "dd173fe1-2523-40a0-9196-9a5cba8955a2"
      },
      "execution_count": 17,
      "outputs": [
        {
          "output_type": "stream",
          "name": "stdout",
          "text": [
            "+------+---+------------+-------------+------------+-------------+--------------+-----------------+---+---------------+------+\n",
            "|gender|age|hypertension|heart_disease|ever_married|    work_type|Residence_type|avg_glucose_level|bmi| smoking_status|stroke|\n",
            "+------+---+------------+-------------+------------+-------------+--------------+-----------------+---+---------------+------+\n",
            "|  Male| 67|           0|            1|         Yes|      Private|         Urban|              228| 36|formerly smoked|     1|\n",
            "|Female| 61|           0|            0|         Yes|Self-employed|         Rural|              202| 28|   never smoked|     1|\n",
            "|  Male| 80|           0|            1|         Yes|      Private|         Rural|              105| 32|   never smoked|     1|\n",
            "|Female| 49|           0|            0|         Yes|      Private|         Urban|              171| 34|         smokes|     1|\n",
            "|Female| 79|           1|            0|         Yes|Self-employed|         Rural|              174| 24|   never smoked|     1|\n",
            "+------+---+------------+-------------+------------+-------------+--------------+-----------------+---+---------------+------+\n",
            "only showing top 5 rows\n",
            "\n"
          ]
        }
      ]
    },
    {
      "cell_type": "code",
      "source": [
        "# Mean of all numeric variables wrt stroke\n",
        "num_cols = [col[0] for col in data.dtypes if col[1] != 'string']\n",
        "\n",
        "for col in [col.lower() for col in num_cols]: \n",
        "  data.groupby('stroke').agg({col: 'mean'}).show()"
      ],
      "metadata": {
        "colab": {
          "base_uri": "https://localhost:8080/"
        },
        "id": "Gz4YM2jfbqVa",
        "outputId": "f6c048ed-37ba-4d49-dbd7-b858ef55cb10"
      },
      "execution_count": 19,
      "outputs": [
        {
          "output_type": "stream",
          "name": "stdout",
          "text": [
            "+------+-----------------+\n",
            "|stroke|         avg(age)|\n",
            "+------+-----------------+\n",
            "|     1|67.72690763052209|\n",
            "|     0|41.95967907837893|\n",
            "+------+-----------------+\n",
            "\n",
            "+------+-------------------+\n",
            "|stroke|  avg(hypertension)|\n",
            "+------+-------------------+\n",
            "|     1|0.26506024096385544|\n",
            "|     0|0.08887060275663444|\n",
            "+------+-------------------+\n",
            "\n",
            "+------+-------------------+\n",
            "|stroke| avg(heart_disease)|\n",
            "+------+-------------------+\n",
            "|     1|0.18875502008032127|\n",
            "|     0|0.04710964822053076|\n",
            "+------+-------------------+\n",
            "\n",
            "+------+----------------------+\n",
            "|stroke|avg(avg_glucose_level)|\n",
            "+------+----------------------+\n",
            "|     1|     132.0441767068273|\n",
            "|     0|     104.3067270109031|\n",
            "+------+----------------------+\n",
            "\n",
            "+------+-----------------+\n",
            "|stroke|         avg(bmi)|\n",
            "+------+-----------------+\n",
            "|     1|29.70281124497992|\n",
            "|     0|28.36576836041967|\n",
            "+------+-----------------+\n",
            "\n",
            "+------+-----------+\n",
            "|stroke|avg(stroke)|\n",
            "+------+-----------+\n",
            "|     1|        1.0|\n",
            "|     0|        0.0|\n",
            "+------+-----------+\n",
            "\n"
          ]
        }
      ]
    },
    {
      "cell_type": "code",
      "source": [
        "# Categorize the age column \n",
        "data = data.withColumn('age', when(data['age'] < 30, 'Adult'). \n",
        "                       when((data['age'] > 30) & (data['age'] < 40), \"Middle age\").\n",
        "                       otherwise('Old age'))\n",
        "\n",
        "data.show(5)"
      ],
      "metadata": {
        "colab": {
          "base_uri": "https://localhost:8080/"
        },
        "id": "Gknob0G6c0JU",
        "outputId": "4c8e53ae-5aa8-49e2-a05b-0a6e4f8499b4"
      },
      "execution_count": 24,
      "outputs": [
        {
          "output_type": "stream",
          "name": "stdout",
          "text": [
            "+------+-------+------------+-------------+------------+-------------+--------------+-----------------+---+---------------+------+\n",
            "|gender|    age|hypertension|heart_disease|ever_married|    work_type|Residence_type|avg_glucose_level|bmi| smoking_status|stroke|\n",
            "+------+-------+------------+-------------+------------+-------------+--------------+-----------------+---+---------------+------+\n",
            "|  Male|Old age|           0|            1|         Yes|      Private|         Urban|              228| 36|formerly smoked|     1|\n",
            "|Female|Old age|           0|            0|         Yes|Self-employed|         Rural|              202| 28|   never smoked|     1|\n",
            "|  Male|Old age|           0|            1|         Yes|      Private|         Rural|              105| 32|   never smoked|     1|\n",
            "|Female|Old age|           0|            0|         Yes|      Private|         Urban|              171| 34|         smokes|     1|\n",
            "|Female|Old age|           1|            0|         Yes|Self-employed|         Rural|              174| 24|   never smoked|     1|\n",
            "+------+-------+------------+-------------+------------+-------------+--------------+-----------------+---+---------------+------+\n",
            "only showing top 5 rows\n",
            "\n"
          ]
        }
      ]
    }
  ]
}